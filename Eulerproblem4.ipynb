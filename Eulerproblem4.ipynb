{
 "cells": [
  {
   "cell_type": "markdown",
   "id": "dc35f7fc-16c8-4503-8b4f-595ab45e9b14",
   "metadata": {},
   "source": [
    "### Euler project's fourth problem\n",
    "What is the smallest positive number that is evenly divisible by all the numbers from 1 to 20?"
   ]
  },
  {
   "cell_type": "code",
   "execution_count": null,
   "id": "d85e48c3-5b5c-44ba-8b78-0c2ae7d6c3ef",
   "metadata": {},
   "outputs": [],
   "source": [
    "def check_divisible(n):\n",
    "    for i in range (1,21):\n",
    "        if n%i!=0:\n",
    "            return False   \n",
    "    return True\n",
    "\n",
    "number=20\n",
    "\n",
    "while True:\n",
    "    number+=20\n",
    "    if check_divisible(number):\n",
    "        print(number)\n",
    "        break"
   ]
  },
  {
   "cell_type": "markdown",
   "id": "2e13024d-016e-4707-8cc6-c4d8918abcf0",
   "metadata": {},
   "source": [
    "This was my first attempt to solve the problem but the algorithm that I used isn't efficient so I'm going to \n",
    "make another attempt for solving this problem."
   ]
  }
 ],
 "metadata": {
  "kernelspec": {
   "display_name": "Python 3 (ipykernel)",
   "language": "python",
   "name": "python3"
  },
  "language_info": {
   "codemirror_mode": {
    "name": "ipython",
    "version": 3
   },
   "file_extension": ".py",
   "mimetype": "text/x-python",
   "name": "python",
   "nbconvert_exporter": "python",
   "pygments_lexer": "ipython3",
   "version": "3.12.4"
  }
 },
 "nbformat": 4,
 "nbformat_minor": 5
}
