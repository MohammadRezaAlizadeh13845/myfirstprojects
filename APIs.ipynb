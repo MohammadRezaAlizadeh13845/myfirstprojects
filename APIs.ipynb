{
 "cells": [
  {
   "cell_type": "markdown",
   "id": "27110b31-6157-4f66-ab53-2eaa04a60a6e",
   "metadata": {},
   "source": [
    "### APIs\n",
    "In this notebook I will practice with APIs and try to work with them.  \n",
    "I will be using an API which gives you random dog photos."
   ]
  },
  {
   "cell_type": "code",
   "execution_count": 8,
   "id": "ab124281-46fc-4497-9b0a-c5248796ec88",
   "metadata": {},
   "outputs": [
    {
     "data": {
      "text/html": [
       "<img src=\"https://images.dog.ceo/breeds/pinscher-miniature/n02107312_5968.jpg\"/>"
      ],
      "text/plain": [
       "<IPython.core.display.Image object>"
      ]
     },
     "metadata": {},
     "output_type": "display_data"
    }
   ],
   "source": [
    "import requests\n",
    "from IPython.display import Image, display\n",
    "url = 'https://dog.ceo/api/breeds/image/random'\n",
    "response = requests.get(url)\n",
    "if response.status_code == 200 :\n",
    "    data = response.json()\n",
    "    image_url = data['message']\n",
    "    display(Image(url=image_url))\n",
    "else: print(\"Failed to retrieve data:\",response.status_code)"
   ]
  }
 ],
 "metadata": {
  "kernelspec": {
   "display_name": "Python 3 (ipykernel)",
   "language": "python",
   "name": "python3"
  },
  "language_info": {
   "codemirror_mode": {
    "name": "ipython",
    "version": 3
   },
   "file_extension": ".py",
   "mimetype": "text/x-python",
   "name": "python",
   "nbconvert_exporter": "python",
   "pygments_lexer": "ipython3",
   "version": "3.12.4"
  }
 },
 "nbformat": 4,
 "nbformat_minor": 5
}
