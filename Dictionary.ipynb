{
 "cells": [
  {
   "cell_type": "markdown",
   "id": "30973efd-f723-4d05-95d1-ed750f3a6d6b",
   "metadata": {},
   "source": [
    "### Dictionary\n",
    "In this program we will try to solve a problem using a **dictionary**.  \n",
    "Sina has forgot his password to the safety box and he only remembers  \n",
    "a bit of information about the numbers in his password. The sum of the  \n",
    "third and fifth number is 14, the first number is one unit less than  \n",
    "twice the second number and the fourth number is one unit more than  \n",
    "the second number; also, the sum of the second and third number is 10  \n",
    "and the sum of all the numbers (the pin includes 5 numbers) is 30.  \n",
    "we should find the pin."
   ]
  },
  {
   "cell_type": "markdown",
   "id": "7248f782-9129-48d8-82c2-e9ab2890677b",
   "metadata": {},
   "source": [
    "At first, I'll try to solve this problem without using a **dictionary**.  "
   ]
  },
  {
   "cell_type": "code",
   "execution_count": 214,
   "id": "857fb95a-001d-40cd-abce-099352fd8c80",
   "metadata": {},
   "outputs": [
    {
     "name": "stdout",
     "output_type": "stream",
     "text": [
      "74658 is the password\n"
     ]
    }
   ],
   "source": [
    "def correct_password(i):\n",
    "    number = [int(digits) for digits in str(i)]\n",
    "    sum=0\n",
    "    for b in number:\n",
    "        sum+=b\n",
    "    con1= number[2]+number[4]==14\n",
    "    con2= number[0]+ 1 == number[1]*2\n",
    "    con3= number[3] == number[1]+1\n",
    "    con4= number[1]+number[2]==10\n",
    "    con5= sum==30\n",
    "    if all([con1,con2,con3,con4,con5]):\n",
    "        return True\n",
    "    else: return False\n",
    "        \n",
    "for i in range(10000,100000):\n",
    "    if correct_password(i):\n",
    "        print(f'{i} is the password')"
   ]
  },
  {
   "cell_type": "markdown",
   "id": "42010e24-6966-49ec-85fa-f98d3977fdf3",
   "metadata": {},
   "source": [
    "Now we will try to solve the problem using a **dicionary**."
   ]
  },
  {
   "cell_type": "code",
   "execution_count": 238,
   "id": "eff6511a-e0b3-48e2-9e31-7cfeed436ffe",
   "metadata": {},
   "outputs": [
    {
     "name": "stdout",
     "output_type": "stream",
     "text": [
      "74658 is the password\n"
     ]
    }
   ],
   "source": [
    "def correct_password(i):\n",
    "    orders = ['first','second','third','fourth','fifth']\n",
    "    digits = [int(digit) for digit in str(i)]\n",
    "    number={key: value for key, value in zip(orders,digits)}\n",
    "    sum=0\n",
    "    for b in number.values():\n",
    "        sum+=b\n",
    "    con1= number['third']+number['fifth']==14\n",
    "    con2= number['first']+ 1 == number['second']*2\n",
    "    con3= number['fourth'] == number['second']+1\n",
    "    con4= number['second']+number['third']==10\n",
    "    con5= sum==30\n",
    "    if all([con1,con2,con3,con4,con5]):\n",
    "        return True\n",
    "    else: return False\n",
    "        \n",
    "for i in range(10000,100000):\n",
    "    if correct_password(i):\n",
    "        print(f'{i} is the password')"
   ]
  },
  {
   "cell_type": "markdown",
   "id": "84dba97b-f8e3-4fe4-a440-e6c6f8ce9790",
   "metadata": {},
   "source": [
    "As you can see, I solved the problem by using dictionary in the upper cell."
   ]
  }
 ],
 "metadata": {
  "kernelspec": {
   "display_name": "Python 3 (ipykernel)",
   "language": "python",
   "name": "python3"
  },
  "language_info": {
   "codemirror_mode": {
    "name": "ipython",
    "version": 3
   },
   "file_extension": ".py",
   "mimetype": "text/x-python",
   "name": "python",
   "nbconvert_exporter": "python",
   "pygments_lexer": "ipython3",
   "version": "3.12.4"
  }
 },
 "nbformat": 4,
 "nbformat_minor": 5
}
