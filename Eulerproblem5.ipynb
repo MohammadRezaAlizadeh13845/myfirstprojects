{
 "cells": [
  {
   "cell_type": "markdown",
   "id": "50b3c193-2836-4c02-b529-3864a49f4572",
   "metadata": {},
   "source": [
    "### Euler project's fifth problem (first attempt)\n",
    "What is the largest prime factor of the number 600851475143?"
   ]
  },
  {
   "cell_type": "code",
   "execution_count": 18,
   "id": "a4ca677f-a567-49e1-8ae8-20e917a304e3",
   "metadata": {},
   "outputs": [],
   "source": [
    "def is_prime(n):\n",
    "    for i in range (2,int(n**0.5)):\n",
    "        if n%i==0:\n",
    "            return False\n",
    "    return True"
   ]
  },
  {
   "cell_type": "code",
   "execution_count": 93,
   "id": "c0679e15-c2d4-4903-afb1-0fad15f54d9b",
   "metadata": {},
   "outputs": [
    {
     "name": "stdout",
     "output_type": "stream",
     "text": [
      "29\n"
     ]
    }
   ],
   "source": [
    "number=87\n",
    "factor=1\n",
    "for i in range (1,number//2):\n",
    "    if number%i==0:\n",
    "        if is_prime(i):\n",
    "            factor=i\n",
    "print(factor)"
   ]
  },
  {
   "cell_type": "markdown",
   "id": "5f406fd1-8443-4dca-9c6d-6324c772b1e1",
   "metadata": {},
   "source": [
    "In the upper cells I tried to solve the problem by the first thing that came to my mind which wasn't efficient  \n",
    "(the code works for small numbers but not for the big ones).  \n",
    "I spent half an hour trying to fix it and I couldn't. I'll check it later."
   ]
  },
  {
   "cell_type": "code",
   "execution_count": 20,
   "id": "c18d3800-6db8-481d-939b-a21198ead865",
   "metadata": {},
   "outputs": [],
   "source": [
    "import math\n",
    "def factors(n):\n",
    "    factors=set()\n",
    "    for i in range (1,int(math.sqrt(n))+1):\n",
    "        if n%i==0:\n",
    "            factors.add(i)\n",
    "            factors.add(n//i)\n",
    "    return sorted(factors)"
   ]
  },
  {
   "cell_type": "code",
   "execution_count": 22,
   "id": "5442b760-826b-4082-aa47-82ae26c60c3c",
   "metadata": {},
   "outputs": [
    {
     "name": "stdout",
     "output_type": "stream",
     "text": [
      "6857\n"
     ]
    }
   ],
   "source": [
    "number=600851475143\n",
    "factors=factors(number)\n",
    "for i in factors:\n",
    "    if is_prime(i):\n",
    "        answer=i\n",
    "print(answer)"
   ]
  },
  {
   "cell_type": "markdown",
   "id": "325093c9-7076-4ea9-a368-4c726513a135",
   "metadata": {},
   "source": [
    "I solved this problem with second try by using a function that finds the factors of  \n",
    "a number and puts them in a specific list that can not have duplicate items.  \n",
    "Therefore you are left with a uniqe list of factors that is sorted from smallest to the  \n",
    "largest one and all of this results in a more efficient code and faster calculation time."
   ]
  }
 ],
 "metadata": {
  "kernelspec": {
   "display_name": "Python 3 (ipykernel)",
   "language": "python",
   "name": "python3"
  },
  "language_info": {
   "codemirror_mode": {
    "name": "ipython",
    "version": 3
   },
   "file_extension": ".py",
   "mimetype": "text/x-python",
   "name": "python",
   "nbconvert_exporter": "python",
   "pygments_lexer": "ipython3",
   "version": "3.12.4"
  }
 },
 "nbformat": 4,
 "nbformat_minor": 5
}
