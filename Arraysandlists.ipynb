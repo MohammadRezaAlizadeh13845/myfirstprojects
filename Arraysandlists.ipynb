{
 "cells": [
  {
   "cell_type": "markdown",
   "id": "567d1052-e65a-4ded-b1c6-743aa0325376",
   "metadata": {},
   "source": [
    "### Arrays and Lists\n",
    "I have learned arrays and lists and I want to practice them in this notbook.  \n",
    "I want to make a program which randolmy transfers money between 50 people  \n",
    "(for example takes one dollar from person2 and gives it to person3) and the  \n",
    "idea is to learn how to work woth arrays and lists.\n"
   ]
  },
  {
   "cell_type": "markdown",
   "id": "e530c88e-d2ce-4284-8a7a-25d8d1264e74",
   "metadata": {},
   "source": [
    "Everyone gets 100 dollar and the money randomly gets transfered between  \n",
    "these people and whoever that runs out of cash, gets eliminated."
   ]
  },
  {
   "cell_type": "code",
   "execution_count": 444,
   "id": "1b2077cd-8f47-47e9-b0ad-4c606df8d2f3",
   "metadata": {},
   "outputs": [],
   "source": [
    "people=[100 for i in range(0,50)]"
   ]
  },
  {
   "cell_type": "code",
   "execution_count": 446,
   "id": "99cbd9c6-7c44-46ed-b7e5-899fe68bee43",
   "metadata": {},
   "outputs": [],
   "source": [
    "import random\n",
    "i=0\n",
    "while i<100000:\n",
    "    i+=1\n",
    "    random_person1=random.randint(0,len(people)-1)\n",
    "    random_person2=random.randint(0,len(people)-1)\n",
    "    people[random_person1]-=10\n",
    "    people[random_person2]+=10\n",
    "    if len(people)<3:\n",
    "        break\n",
    "        print(\"The items aren't sufficient for the task\") \n",
    "    if people[random_person1] < 1:\n",
    "        del people[random_person1]\n",
    "    if people[random_person2] < 1:\n",
    "        del people[random_person2]"
   ]
  },
  {
   "cell_type": "code",
   "execution_count": 448,
   "id": "00840548-801c-4219-a934-ad1e1e7f6e00",
   "metadata": {},
   "outputs": [
    {
     "data": {
      "text/plain": [
       "[1750, 1960, 1290]"
      ]
     },
     "execution_count": 448,
     "metadata": {},
     "output_type": "execute_result"
    }
   ],
   "source": [
    "people"
   ]
  },
  {
   "cell_type": "code",
   "execution_count": 450,
   "id": "d676f6fc-85f4-46bf-bd32-f224a959fab9",
   "metadata": {},
   "outputs": [
    {
     "data": {
      "text/plain": [
       "3"
      ]
     },
     "execution_count": 450,
     "metadata": {},
     "output_type": "execute_result"
    }
   ],
   "source": [
    "len(people) "
   ]
  },
  {
   "cell_type": "markdown",
   "id": "65f22498-c226-49c6-83b4-c7b2e6088354",
   "metadata": {},
   "source": [
    "This program has one error that I should fix tomorrow and it is that when it is supposed  \n",
    "to break the loop (when there isn't enough items in the list), it doesn't."
   ]
  }
 ],
 "metadata": {
  "kernelspec": {
   "display_name": "Python 3 (ipykernel)",
   "language": "python",
   "name": "python3"
  },
  "language_info": {
   "codemirror_mode": {
    "name": "ipython",
    "version": 3
   },
   "file_extension": ".py",
   "mimetype": "text/x-python",
   "name": "python",
   "nbconvert_exporter": "python",
   "pygments_lexer": "ipython3",
   "version": "3.12.4"
  }
 },
 "nbformat": 4,
 "nbformat_minor": 5
}
