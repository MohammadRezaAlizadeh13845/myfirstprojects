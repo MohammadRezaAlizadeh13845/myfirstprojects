{
 "cells": [
  {
   "cell_type": "markdown",
   "id": "33fbb2be-ed0d-45a4-b3e0-20fe7dad1bc3",
   "metadata": {},
   "source": [
    "### Euler project's fourth problem\n",
    "What is the smallest number that is **evenly divisbile** by all the number from 1 to 20? (second attempt).\n",
    "The algorithm that I used in my first attempt wasn't incorrect but it wasn't **efficient**."
   ]
  },
  {
   "cell_type": "code",
   "execution_count": 8,
   "id": "6419be05-4cbe-437d-a907-a0ceb2a19ef6",
   "metadata": {},
   "outputs": [
    {
     "name": "stdout",
     "output_type": "stream",
     "text": [
      "232792560\n"
     ]
    }
   ],
   "source": [
    "import math\n",
    "def lcm (a,b):\n",
    "    return abs(a*b)//math.gcd(a,b)\n",
    "number=1\n",
    "for i in range (2,21):\n",
    "    number= lcm (number ,i)\n",
    "print (number)"
   ]
  }
 ],
 "metadata": {
  "kernelspec": {
   "display_name": "Python 3 (ipykernel)",
   "language": "python",
   "name": "python3"
  },
  "language_info": {
   "codemirror_mode": {
    "name": "ipython",
    "version": 3
   },
   "file_extension": ".py",
   "mimetype": "text/x-python",
   "name": "python",
   "nbconvert_exporter": "python",
   "pygments_lexer": "ipython3",
   "version": "3.12.4"
  }
 },
 "nbformat": 4,
 "nbformat_minor": 5
}
