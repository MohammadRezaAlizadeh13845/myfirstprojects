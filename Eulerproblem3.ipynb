{
 "cells": [
  {
   "cell_type": "markdown",
   "id": "f42e653f-8db7-483f-a93c-b82aa0274f99",
   "metadata": {},
   "source": [
    "### Euler project's third problem (sorted by difficulty)\n",
    "We should find the **difference between the sum of the squares of the first one hundred natural numbers and the square of the sum**."
   ]
  },
  {
   "cell_type": "code",
   "execution_count": 35,
   "id": "522f2d56-39b8-4e51-bbc0-ff497dc7af77",
   "metadata": {},
   "outputs": [
    {
     "name": "stdout",
     "output_type": "stream",
     "text": [
      "25164150\n"
     ]
    }
   ],
   "source": [
    "first_sum=0\n",
    "for i in range (1,101):\n",
    "    first_sum+=i\n",
    "\n",
    "first_sum**=2\n",
    "\n",
    "second_sum=0\n",
    "for i in range (1,101):\n",
    "    second_sum+=i**2\n",
    "\n",
    "third_sum=first_sum-second_sum\n",
    "\n",
    "print (third_sum)\n"
   ]
  }
 ],
 "metadata": {
  "kernelspec": {
   "display_name": "Python 3 (ipykernel)",
   "language": "python",
   "name": "python3"
  },
  "language_info": {
   "codemirror_mode": {
    "name": "ipython",
    "version": 3
   },
   "file_extension": ".py",
   "mimetype": "text/x-python",
   "name": "python",
   "nbconvert_exporter": "python",
   "pygments_lexer": "ipython3",
   "version": "3.12.4"
  }
 },
 "nbformat": 4,
 "nbformat_minor": 5
}
