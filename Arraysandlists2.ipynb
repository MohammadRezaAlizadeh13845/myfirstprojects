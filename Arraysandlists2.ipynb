{
 "cells": [
  {
   "cell_type": "markdown",
   "id": "8cdfc750-60ac-4473-a20a-92d0050803b5",
   "metadata": {},
   "source": [
    "### Arrays and Lists\n",
    "I have learned arrays and lists and I want to practice them in this notbook.  \n",
    "I want to make a program which randolmy transfers money between 50 people  \n",
    "(for example takes one dollar from person2 and gives it to person3) and the  \n",
    "idea is to learn how to work woth arrays and lists.\n"
   ]
  },
  {
   "cell_type": "markdown",
   "id": "33c227ff-e660-4ef0-a778-8bb9bf790084",
   "metadata": {},
   "source": [
    "Everyone gets 100 dollar and the money randomly gets transfered between  \n",
    "these people and whoever that runs out of cash, gets eliminated."
   ]
  },
  {
   "cell_type": "code",
   "execution_count": 83,
   "id": "21759a83-d6dd-4dd7-9ff8-8455e3e4a619",
   "metadata": {},
   "outputs": [],
   "source": [
    "people=[100 for i in range(0,50)]"
   ]
  },
  {
   "cell_type": "markdown",
   "id": "a7dae86b-a248-46aa-8041-359d5ffa4b8a",
   "metadata": {},
   "source": [
    "This program had one error and it's that it doesn't stop the way I want it to stop.  \n",
    "When there is not enough people for the task it should print \"The items aren't sufficient for the task\",  \n",
    "but it doesn't. Now I'm goint to fix this problem in this file."
   ]
  },
  {
   "cell_type": "code",
   "execution_count": 85,
   "id": "147dc306-a813-4a51-98e7-5791920252fe",
   "metadata": {},
   "outputs": [
    {
     "name": "stdout",
     "output_type": "stream",
     "text": [
      "There aren't enough people for the task.\n"
     ]
    }
   ],
   "source": [
    "import random\n",
    "iterations=10000000\n",
    "i=0\n",
    "while i<iterations and len(people)>=2:\n",
    "    i+=1\n",
    "    random_person1, random_person2 = random.sample(range(len(people)), 2)\n",
    "    people[random_person1]-=1\n",
    "    people[random_person2]+=1\n",
    "    people=[person for person in people if person>0]\n",
    "    if len(people)<2:\n",
    "        print (\"There aren't enough people for the task.\")\n",
    "        break"
   ]
  },
  {
   "cell_type": "markdown",
   "id": "272b05c1-a5ff-4af0-a63c-0fc0f551bb71",
   "metadata": {},
   "source": [
    "In the upper cell by adding the length of the list to the loop's condition,   \n",
    "optimizing the code that deletes people who have ran out of cash, adding a  \n",
    "more efficient if statement and finding random people with sample function  \n",
    "(finds unique people), I solved the problem and fixed the error."
   ]
  }
 ],
 "metadata": {
  "kernelspec": {
   "display_name": "Python 3 (ipykernel)",
   "language": "python",
   "name": "python3"
  },
  "language_info": {
   "codemirror_mode": {
    "name": "ipython",
    "version": 3
   },
   "file_extension": ".py",
   "mimetype": "text/x-python",
   "name": "python",
   "nbconvert_exporter": "python",
   "pygments_lexer": "ipython3",
   "version": "3.12.4"
  }
 },
 "nbformat": 4,
 "nbformat_minor": 5
}
